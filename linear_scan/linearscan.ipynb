{
 "cells": [
  {
   "cell_type": "code",
   "execution_count": null,
   "metadata": {},
   "outputs": [
    {
     "ename": "",
     "evalue": "",
     "output_type": "error",
     "traceback": [
      "\u001b[1;31mRunning cells with 'c:\\Users\\manav\\AppData\\Local\\Programs\\Python\\Python310\\python.exe' requires the ipykernel package.\n",
      "\u001b[1;31mRun the following command to install 'ipykernel' into the Python environment. \n",
      "\u001b[1;31mCommand: 'c:/Users/manav/AppData/Local/Programs/Python/Python310/python.exe -m pip install ipykernel -U --user --force-reinstall'"
     ]
    }
   ],
   "source": [
    "def expireOldIntervals(interval, active, registers):\n",
    "    for i in active.copy():\n",
    "        if i[1] <= interval[0]:\n",
    "            active.remove(i)\n",
    "            for j, reg in enumerate(registers):\n",
    "                if reg == i:\n",
    "                    registers[j] = (-1, -1)\n",
    "\n",
    "def displayRegisters(registers):\n",
    "    for i, reg in enumerate(registers):\n",
    "        print(f\"Register {i+1} contains {reg[0]} {reg[1]}\")\n",
    "    print()\n",
    "\n",
    "def linearScanRegisterAllocation(LiveIntervals, registers):\n",
    "    active = set()\n",
    "\n",
    "    for interval in LiveIntervals:\n",
    "        expireOldIntervals(interval, active, registers)\n",
    "\n",
    "        if len(active) == R:\n",
    "            spillAtInterval(interval, active, registers)\n",
    "        else:\n",
    "            for i, reg in enumerate(registers):\n",
    "                if reg == (-1, -1):\n",
    "                    registers[i] = interval\n",
    "                    active.add(interval)\n",
    "                    break\n",
    "\n",
    "        displayRegisters(registers)\n",
    "\n",
    "def spillAtInterval(interval, active, registers):\n",
    "    max_end = interval[1]\n",
    "    flag = False\n",
    "    spill_interval = interval\n",
    "\n",
    "    for i in active:\n",
    "        if i[1] > max_end:\n",
    "            max_end = i[1]\n",
    "            spill_interval = i\n",
    "            flag = True\n",
    "\n",
    "    if flag:\n",
    "        active.remove(spill_interval)\n",
    "        print(f\"Spilled {spill_interval[0]} {spill_interval[1]} to memory\")\n",
    "        index = -1\n",
    "        for j, reg in enumerate(registers):\n",
    "            if reg == spill_interval:\n",
    "                registers[j] = (-1, -1)\n",
    "                index = j\n",
    "                break\n",
    "        active.add(interval)\n",
    "        registers[index] = interval\n",
    "    else:\n",
    "        print(f\"Spilled {interval[0]} {interval[1]} to memory\")\n",
    "\n",
    "if __name__ == \"__main__\":\n",
    "    LiveIntervals = {(1, 3), (2, 5), (3, 10), (4, 8), (5, 7)}\n",
    "    R = 2\n",
    "    registers = [(-1, -1)] * R\n",
    "\n",
    "    for interval in LiveIntervals:\n",
    "        print(interval[0], interval[1])\n",
    "\n",
    "    linearScanRegisterAllocation(LiveIntervals, registers)\n"
   ]
  }
 ],
 "metadata": {
  "kernelspec": {
   "display_name": "Python 3",
   "language": "python",
   "name": "python3"
  },
  "language_info": {
   "codemirror_mode": {
    "name": "ipython",
    "version": 3
   },
   "file_extension": ".py",
   "mimetype": "text/x-python",
   "name": "python",
   "nbconvert_exporter": "python",
   "pygments_lexer": "ipython3",
   "version": "3.10.4"
  },
  "orig_nbformat": 4
 },
 "nbformat": 4,
 "nbformat_minor": 2
}
